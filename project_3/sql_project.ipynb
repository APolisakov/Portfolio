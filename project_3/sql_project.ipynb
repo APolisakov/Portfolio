{
 "cells": [
  {
   "cell_type": "markdown",
   "metadata": {},
   "source": [
    "# Проектная работа: Анализ сервиса для чтения книг по подписке."
   ]
  },
  {
   "cell_type": "markdown",
   "metadata": {},
   "source": [
    "Цель исследования: \n",
    "\n",
    "Проанализировать базу данных сервиса для чтения книг по подписке и сформулировать ценностное предложение для нового продукта."
   ]
  },
  {
   "cell_type": "markdown",
   "metadata": {},
   "source": [
    "# Введение"
   ]
  },
  {
   "cell_type": "markdown",
   "metadata": {},
   "source": [
    "Коронавирус застал мир врасплох, изменив привычный порядок вещей. В свободное время жители городов больше не выходят на улицу, не посещают кафе и торговые центры. Зато стало больше времени для книг. Это заметили стартаперы — и бросились создавать приложения для тех, кто любит читать.\n",
    "\n",
    "Наша компания решила быть на волне и купила крупный сервис для чтения книг по подписке. Наша задача проанализировать базу данных. В ней — информация о книгах, издательствах, авторах, а также пользовательские обзоры книг. Эти данные помогут сформулировать ценностное предложение для нового продукта."
   ]
  },
  {
   "cell_type": "markdown",
   "metadata": {},
   "source": [
    "**План иследования:**\n",
    "\n",
    "Шаг 1. Загрузка данных.\n",
    "\n",
    "Шаг 2. Исследование таблиц.\n",
    "\n",
    "Шаг 3. Анализ таблиц.\n",
    "\n",
    "Шаг 4. Вывод"
   ]
  },
  {
   "cell_type": "markdown",
   "metadata": {},
   "source": [
    "## Шаг 1. Загрузка данных."
   ]
  },
  {
   "cell_type": "code",
   "execution_count": 1,
   "metadata": {},
   "outputs": [
    {
     "name": "stdout",
     "output_type": "stream",
     "text": [
      "Requirement already satisfied: psycopg2-binary in c:\\users\\user\\anaconda3\\lib\\site-packages (2.9.9)\n",
      "Note: you may need to restart the kernel to use updated packages.\n"
     ]
    }
   ],
   "source": [
    "pip install psycopg2-binary "
   ]
  },
  {
   "cell_type": "code",
   "execution_count": 2,
   "metadata": {},
   "outputs": [],
   "source": [
    "import pandas as pd\n",
    "import sqlalchemy as sa\n",
    "from sqlalchemy import create_engine "
   ]
  },
  {
   "cell_type": "code",
   "execution_count": 3,
   "metadata": {},
   "outputs": [],
   "source": [
    "db_config = {\n",
    "'user': 'praktikum_student', \n",
    "'pwd': 'Sdf4$2;d-d30pp', \n",
    "'host': 'rc1b-wcoijxj3yxfsf3fs.mdb.yandexcloud.net',\n",
    "'port': 6432, \n",
    "'db': 'data-analyst-final-project-db' \n",
    "}"
   ]
  },
  {
   "cell_type": "code",
   "execution_count": 4,
   "metadata": {},
   "outputs": [],
   "source": [
    "connection_string = 'postgresql://{user}:{pwd}@{host}:{port}/{db}'.format(**db_config)"
   ]
  },
  {
   "cell_type": "code",
   "execution_count": 5,
   "metadata": {},
   "outputs": [],
   "source": [
    "engine = sa.create_engine(connection_string, connect_args={'sslmode':'require'})"
   ]
  },
  {
   "cell_type": "code",
   "execution_count": 6,
   "metadata": {},
   "outputs": [],
   "source": [
    "def get_sql_data(query:str, engine:sa.engine.base.Engine=engine) -> pd.DataFrame:\n",
    "    with engine.connect() as con:\n",
    "        return pd.read_sql(sql=sa.text(query), con = con)"
   ]
  },
  {
   "cell_type": "markdown",
   "metadata": {},
   "source": [
    "## Исследование таблиц:"
   ]
  },
  {
   "cell_type": "markdown",
   "metadata": {},
   "source": [
    "### Таблица `books`"
   ]
  },
  {
   "cell_type": "code",
   "execution_count": 7,
   "metadata": {},
   "outputs": [
    {
     "data": {
      "text/html": [
       "<div>\n",
       "<style scoped>\n",
       "    .dataframe tbody tr th:only-of-type {\n",
       "        vertical-align: middle;\n",
       "    }\n",
       "\n",
       "    .dataframe tbody tr th {\n",
       "        vertical-align: top;\n",
       "    }\n",
       "\n",
       "    .dataframe thead th {\n",
       "        text-align: right;\n",
       "    }\n",
       "</style>\n",
       "<table border=\"1\" class=\"dataframe\">\n",
       "  <thead>\n",
       "    <tr style=\"text-align: right;\">\n",
       "      <th></th>\n",
       "      <th>book_id</th>\n",
       "      <th>author_id</th>\n",
       "      <th>title</th>\n",
       "      <th>num_pages</th>\n",
       "      <th>publication_date</th>\n",
       "      <th>publisher_id</th>\n",
       "    </tr>\n",
       "  </thead>\n",
       "  <tbody>\n",
       "    <tr>\n",
       "      <th>0</th>\n",
       "      <td>1</td>\n",
       "      <td>546</td>\n",
       "      <td>'Salem's Lot</td>\n",
       "      <td>594</td>\n",
       "      <td>2005-11-01</td>\n",
       "      <td>93</td>\n",
       "    </tr>\n",
       "    <tr>\n",
       "      <th>1</th>\n",
       "      <td>2</td>\n",
       "      <td>465</td>\n",
       "      <td>1 000 Places to See Before You Die</td>\n",
       "      <td>992</td>\n",
       "      <td>2003-05-22</td>\n",
       "      <td>336</td>\n",
       "    </tr>\n",
       "    <tr>\n",
       "      <th>2</th>\n",
       "      <td>3</td>\n",
       "      <td>407</td>\n",
       "      <td>13 Little Blue Envelopes (Little Blue Envelope...</td>\n",
       "      <td>322</td>\n",
       "      <td>2010-12-21</td>\n",
       "      <td>135</td>\n",
       "    </tr>\n",
       "    <tr>\n",
       "      <th>3</th>\n",
       "      <td>4</td>\n",
       "      <td>82</td>\n",
       "      <td>1491: New Revelations of the Americas Before C...</td>\n",
       "      <td>541</td>\n",
       "      <td>2006-10-10</td>\n",
       "      <td>309</td>\n",
       "    </tr>\n",
       "    <tr>\n",
       "      <th>4</th>\n",
       "      <td>5</td>\n",
       "      <td>125</td>\n",
       "      <td>1776</td>\n",
       "      <td>386</td>\n",
       "      <td>2006-07-04</td>\n",
       "      <td>268</td>\n",
       "    </tr>\n",
       "  </tbody>\n",
       "</table>\n",
       "</div>"
      ],
      "text/plain": [
       "   book_id  author_id                                              title  \\\n",
       "0        1        546                                       'Salem's Lot   \n",
       "1        2        465                 1 000 Places to See Before You Die   \n",
       "2        3        407  13 Little Blue Envelopes (Little Blue Envelope...   \n",
       "3        4         82  1491: New Revelations of the Americas Before C...   \n",
       "4        5        125                                               1776   \n",
       "\n",
       "   num_pages publication_date  publisher_id  \n",
       "0        594       2005-11-01            93  \n",
       "1        992       2003-05-22           336  \n",
       "2        322       2010-12-21           135  \n",
       "3        541       2006-10-10           309  \n",
       "4        386       2006-07-04           268  "
      ]
     },
     "execution_count": 7,
     "metadata": {},
     "output_type": "execute_result"
    }
   ],
   "source": [
    "books =( '''\n",
    "SELECT \n",
    "    *\n",
    "FROM books\n",
    "    LIMIT 5\n",
    "''')    \n",
    "get_sql_data(books)"
   ]
  },
  {
   "cell_type": "code",
   "execution_count": 8,
   "metadata": {},
   "outputs": [
    {
     "data": {
      "text/html": [
       "<div>\n",
       "<style scoped>\n",
       "    .dataframe tbody tr th:only-of-type {\n",
       "        vertical-align: middle;\n",
       "    }\n",
       "\n",
       "    .dataframe tbody tr th {\n",
       "        vertical-align: top;\n",
       "    }\n",
       "\n",
       "    .dataframe thead th {\n",
       "        text-align: right;\n",
       "    }\n",
       "</style>\n",
       "<table border=\"1\" class=\"dataframe\">\n",
       "  <thead>\n",
       "    <tr style=\"text-align: right;\">\n",
       "      <th></th>\n",
       "      <th>count</th>\n",
       "      <th>distinct</th>\n",
       "      <th>distinct_book</th>\n",
       "    </tr>\n",
       "  </thead>\n",
       "  <tbody>\n",
       "    <tr>\n",
       "      <th>0</th>\n",
       "      <td>1000</td>\n",
       "      <td>1000</td>\n",
       "      <td>999</td>\n",
       "    </tr>\n",
       "  </tbody>\n",
       "</table>\n",
       "</div>"
      ],
      "text/plain": [
       "   count  distinct  distinct_book\n",
       "0   1000      1000            999"
      ]
     },
     "execution_count": 8,
     "metadata": {},
     "output_type": "execute_result"
    }
   ],
   "source": [
    "books =( '''\n",
    "SELECT \n",
    "    COUNT(book_id),\n",
    "    COUNT(DISTINCT(book_id)) distinct,\n",
    "    COUNT(DISTINCT(title)) distinct_book\n",
    "FROM books\n",
    "    LIMIT 5\n",
    "''')    \n",
    "get_sql_data(books)"
   ]
  },
  {
   "cell_type": "markdown",
   "metadata": {},
   "source": [
    "Данные в таблице `books` представлены следующими столбцами: `book_id` идентификатор книги, `author_id` идентификатор автора,  `title` название книги, `num_pages` количество страниц, `publication_date` дата публикации книги, `publisher_id` идентификатор издателя. В таблице 1000 строк. Уникальных названий книг 999"
   ]
  },
  {
   "cell_type": "markdown",
   "metadata": {},
   "source": [
    "### Таблица `authors`"
   ]
  },
  {
   "cell_type": "code",
   "execution_count": 9,
   "metadata": {},
   "outputs": [
    {
     "data": {
      "text/html": [
       "<div>\n",
       "<style scoped>\n",
       "    .dataframe tbody tr th:only-of-type {\n",
       "        vertical-align: middle;\n",
       "    }\n",
       "\n",
       "    .dataframe tbody tr th {\n",
       "        vertical-align: top;\n",
       "    }\n",
       "\n",
       "    .dataframe thead th {\n",
       "        text-align: right;\n",
       "    }\n",
       "</style>\n",
       "<table border=\"1\" class=\"dataframe\">\n",
       "  <thead>\n",
       "    <tr style=\"text-align: right;\">\n",
       "      <th></th>\n",
       "      <th>author_id</th>\n",
       "      <th>author</th>\n",
       "    </tr>\n",
       "  </thead>\n",
       "  <tbody>\n",
       "    <tr>\n",
       "      <th>0</th>\n",
       "      <td>1</td>\n",
       "      <td>A.S. Byatt</td>\n",
       "    </tr>\n",
       "    <tr>\n",
       "      <th>1</th>\n",
       "      <td>2</td>\n",
       "      <td>Aesop/Laura Harris/Laura Gibbs</td>\n",
       "    </tr>\n",
       "    <tr>\n",
       "      <th>2</th>\n",
       "      <td>3</td>\n",
       "      <td>Agatha Christie</td>\n",
       "    </tr>\n",
       "    <tr>\n",
       "      <th>3</th>\n",
       "      <td>4</td>\n",
       "      <td>Alan Brennert</td>\n",
       "    </tr>\n",
       "    <tr>\n",
       "      <th>4</th>\n",
       "      <td>5</td>\n",
       "      <td>Alan Moore/David   Lloyd</td>\n",
       "    </tr>\n",
       "  </tbody>\n",
       "</table>\n",
       "</div>"
      ],
      "text/plain": [
       "   author_id                          author\n",
       "0          1                      A.S. Byatt\n",
       "1          2  Aesop/Laura Harris/Laura Gibbs\n",
       "2          3                 Agatha Christie\n",
       "3          4                   Alan Brennert\n",
       "4          5        Alan Moore/David   Lloyd"
      ]
     },
     "execution_count": 9,
     "metadata": {},
     "output_type": "execute_result"
    }
   ],
   "source": [
    "authors =( '''\n",
    "SELECT \n",
    "    *\n",
    "FROM authors\n",
    "    LIMIT 5\n",
    "''')    \n",
    "get_sql_data(authors)"
   ]
  },
  {
   "cell_type": "code",
   "execution_count": 10,
   "metadata": {},
   "outputs": [
    {
     "data": {
      "text/html": [
       "<div>\n",
       "<style scoped>\n",
       "    .dataframe tbody tr th:only-of-type {\n",
       "        vertical-align: middle;\n",
       "    }\n",
       "\n",
       "    .dataframe tbody tr th {\n",
       "        vertical-align: top;\n",
       "    }\n",
       "\n",
       "    .dataframe thead th {\n",
       "        text-align: right;\n",
       "    }\n",
       "</style>\n",
       "<table border=\"1\" class=\"dataframe\">\n",
       "  <thead>\n",
       "    <tr style=\"text-align: right;\">\n",
       "      <th></th>\n",
       "      <th>count</th>\n",
       "      <th>distinct</th>\n",
       "      <th>distinct_author</th>\n",
       "    </tr>\n",
       "  </thead>\n",
       "  <tbody>\n",
       "    <tr>\n",
       "      <th>0</th>\n",
       "      <td>636</td>\n",
       "      <td>636</td>\n",
       "      <td>636</td>\n",
       "    </tr>\n",
       "  </tbody>\n",
       "</table>\n",
       "</div>"
      ],
      "text/plain": [
       "   count  distinct  distinct_author\n",
       "0    636       636              636"
      ]
     },
     "execution_count": 10,
     "metadata": {},
     "output_type": "execute_result"
    }
   ],
   "source": [
    "authors =( '''\n",
    "SELECT \n",
    "    COUNT(author_id),\n",
    "    COUNT(DISTINCT(author_id)) distinct,\n",
    "    COUNT(DISTINCT(author)) distinct_author\n",
    "FROM authors\n",
    "    LIMIT 5\n",
    "''')    \n",
    "get_sql_data(authors)"
   ]
  },
  {
   "cell_type": "markdown",
   "metadata": {},
   "source": [
    "Данные в таблице `authors` представлены следующими столбцами: `author_id` идентификатор автора,  `author` имя автора.  В таблице 636 строк. Уникальных авторов 636"
   ]
  },
  {
   "cell_type": "markdown",
   "metadata": {},
   "source": [
    "### Таблица `publishers`"
   ]
  },
  {
   "cell_type": "code",
   "execution_count": 11,
   "metadata": {},
   "outputs": [
    {
     "data": {
      "text/html": [
       "<div>\n",
       "<style scoped>\n",
       "    .dataframe tbody tr th:only-of-type {\n",
       "        vertical-align: middle;\n",
       "    }\n",
       "\n",
       "    .dataframe tbody tr th {\n",
       "        vertical-align: top;\n",
       "    }\n",
       "\n",
       "    .dataframe thead th {\n",
       "        text-align: right;\n",
       "    }\n",
       "</style>\n",
       "<table border=\"1\" class=\"dataframe\">\n",
       "  <thead>\n",
       "    <tr style=\"text-align: right;\">\n",
       "      <th></th>\n",
       "      <th>publisher_id</th>\n",
       "      <th>publisher</th>\n",
       "    </tr>\n",
       "  </thead>\n",
       "  <tbody>\n",
       "    <tr>\n",
       "      <th>0</th>\n",
       "      <td>1</td>\n",
       "      <td>Ace</td>\n",
       "    </tr>\n",
       "    <tr>\n",
       "      <th>1</th>\n",
       "      <td>2</td>\n",
       "      <td>Ace Book</td>\n",
       "    </tr>\n",
       "    <tr>\n",
       "      <th>2</th>\n",
       "      <td>3</td>\n",
       "      <td>Ace Books</td>\n",
       "    </tr>\n",
       "    <tr>\n",
       "      <th>3</th>\n",
       "      <td>4</td>\n",
       "      <td>Ace Hardcover</td>\n",
       "    </tr>\n",
       "    <tr>\n",
       "      <th>4</th>\n",
       "      <td>5</td>\n",
       "      <td>Addison Wesley Publishing Company</td>\n",
       "    </tr>\n",
       "  </tbody>\n",
       "</table>\n",
       "</div>"
      ],
      "text/plain": [
       "   publisher_id                          publisher\n",
       "0             1                                Ace\n",
       "1             2                           Ace Book\n",
       "2             3                          Ace Books\n",
       "3             4                      Ace Hardcover\n",
       "4             5  Addison Wesley Publishing Company"
      ]
     },
     "execution_count": 11,
     "metadata": {},
     "output_type": "execute_result"
    }
   ],
   "source": [
    "publishers =( '''\n",
    "SELECT \n",
    "    *\n",
    "FROM publishers\n",
    "    LIMIT 5\n",
    "''')    \n",
    "get_sql_data(publishers)"
   ]
  },
  {
   "cell_type": "code",
   "execution_count": 12,
   "metadata": {},
   "outputs": [
    {
     "data": {
      "text/html": [
       "<div>\n",
       "<style scoped>\n",
       "    .dataframe tbody tr th:only-of-type {\n",
       "        vertical-align: middle;\n",
       "    }\n",
       "\n",
       "    .dataframe tbody tr th {\n",
       "        vertical-align: top;\n",
       "    }\n",
       "\n",
       "    .dataframe thead th {\n",
       "        text-align: right;\n",
       "    }\n",
       "</style>\n",
       "<table border=\"1\" class=\"dataframe\">\n",
       "  <thead>\n",
       "    <tr style=\"text-align: right;\">\n",
       "      <th></th>\n",
       "      <th>count</th>\n",
       "      <th>distinct</th>\n",
       "      <th>distinct_publisher</th>\n",
       "    </tr>\n",
       "  </thead>\n",
       "  <tbody>\n",
       "    <tr>\n",
       "      <th>0</th>\n",
       "      <td>340</td>\n",
       "      <td>340</td>\n",
       "      <td>340</td>\n",
       "    </tr>\n",
       "  </tbody>\n",
       "</table>\n",
       "</div>"
      ],
      "text/plain": [
       "   count  distinct  distinct_publisher\n",
       "0    340       340                 340"
      ]
     },
     "execution_count": 12,
     "metadata": {},
     "output_type": "execute_result"
    }
   ],
   "source": [
    "publishers =( '''\n",
    "SELECT \n",
    "    COUNT(publisher_id),\n",
    "    COUNT(DISTINCT(publisher_id)) distinct,\n",
    "    COUNT(DISTINCT(publisher)) distinct_publisher\n",
    "FROM publishers\n",
    "    LIMIT 5\n",
    "''')    \n",
    "get_sql_data(publishers)"
   ]
  },
  {
   "cell_type": "markdown",
   "metadata": {},
   "source": [
    "Данные в таблице `publishers` представлены следующими столбцами: `publisher_id` идентификатор издателя, `publisher` название издательства. В таблице 340 строк. Уникальных издательств 340"
   ]
  },
  {
   "cell_type": "markdown",
   "metadata": {},
   "source": [
    "### Таблица `ratings`"
   ]
  },
  {
   "cell_type": "code",
   "execution_count": 13,
   "metadata": {},
   "outputs": [
    {
     "data": {
      "text/html": [
       "<div>\n",
       "<style scoped>\n",
       "    .dataframe tbody tr th:only-of-type {\n",
       "        vertical-align: middle;\n",
       "    }\n",
       "\n",
       "    .dataframe tbody tr th {\n",
       "        vertical-align: top;\n",
       "    }\n",
       "\n",
       "    .dataframe thead th {\n",
       "        text-align: right;\n",
       "    }\n",
       "</style>\n",
       "<table border=\"1\" class=\"dataframe\">\n",
       "  <thead>\n",
       "    <tr style=\"text-align: right;\">\n",
       "      <th></th>\n",
       "      <th>rating_id</th>\n",
       "      <th>book_id</th>\n",
       "      <th>username</th>\n",
       "      <th>rating</th>\n",
       "    </tr>\n",
       "  </thead>\n",
       "  <tbody>\n",
       "    <tr>\n",
       "      <th>0</th>\n",
       "      <td>1</td>\n",
       "      <td>1</td>\n",
       "      <td>ryanfranco</td>\n",
       "      <td>4</td>\n",
       "    </tr>\n",
       "    <tr>\n",
       "      <th>1</th>\n",
       "      <td>2</td>\n",
       "      <td>1</td>\n",
       "      <td>grantpatricia</td>\n",
       "      <td>2</td>\n",
       "    </tr>\n",
       "    <tr>\n",
       "      <th>2</th>\n",
       "      <td>3</td>\n",
       "      <td>1</td>\n",
       "      <td>brandtandrea</td>\n",
       "      <td>5</td>\n",
       "    </tr>\n",
       "    <tr>\n",
       "      <th>3</th>\n",
       "      <td>4</td>\n",
       "      <td>2</td>\n",
       "      <td>lorichen</td>\n",
       "      <td>3</td>\n",
       "    </tr>\n",
       "    <tr>\n",
       "      <th>4</th>\n",
       "      <td>5</td>\n",
       "      <td>2</td>\n",
       "      <td>mariokeller</td>\n",
       "      <td>2</td>\n",
       "    </tr>\n",
       "  </tbody>\n",
       "</table>\n",
       "</div>"
      ],
      "text/plain": [
       "   rating_id  book_id       username  rating\n",
       "0          1        1     ryanfranco       4\n",
       "1          2        1  grantpatricia       2\n",
       "2          3        1   brandtandrea       5\n",
       "3          4        2       lorichen       3\n",
       "4          5        2    mariokeller       2"
      ]
     },
     "execution_count": 13,
     "metadata": {},
     "output_type": "execute_result"
    }
   ],
   "source": [
    "ratings =( '''\n",
    "SELECT \n",
    "    *\n",
    "FROM ratings\n",
    "    LIMIT 5\n",
    "''')    \n",
    "get_sql_data(ratings)"
   ]
  },
  {
   "cell_type": "code",
   "execution_count": 14,
   "metadata": {},
   "outputs": [
    {
     "data": {
      "text/html": [
       "<div>\n",
       "<style scoped>\n",
       "    .dataframe tbody tr th:only-of-type {\n",
       "        vertical-align: middle;\n",
       "    }\n",
       "\n",
       "    .dataframe tbody tr th {\n",
       "        vertical-align: top;\n",
       "    }\n",
       "\n",
       "    .dataframe thead th {\n",
       "        text-align: right;\n",
       "    }\n",
       "</style>\n",
       "<table border=\"1\" class=\"dataframe\">\n",
       "  <thead>\n",
       "    <tr style=\"text-align: right;\">\n",
       "      <th></th>\n",
       "      <th>count</th>\n",
       "      <th>distinct</th>\n",
       "      <th>distinct</th>\n",
       "    </tr>\n",
       "  </thead>\n",
       "  <tbody>\n",
       "    <tr>\n",
       "      <th>0</th>\n",
       "      <td>6456</td>\n",
       "      <td>6456</td>\n",
       "      <td>160</td>\n",
       "    </tr>\n",
       "  </tbody>\n",
       "</table>\n",
       "</div>"
      ],
      "text/plain": [
       "   count  distinct  distinct\n",
       "0   6456      6456       160"
      ]
     },
     "execution_count": 14,
     "metadata": {},
     "output_type": "execute_result"
    }
   ],
   "source": [
    "ratings =( '''\n",
    "SELECT \n",
    "    COUNT(rating_id),\n",
    "    COUNT(DISTINCT(rating_id)) distinct,\n",
    "    COUNT(DISTINCT(username)) distinct\n",
    "FROM ratings\n",
    "    LIMIT 5\n",
    "''')    \n",
    "get_sql_data(ratings)"
   ]
  },
  {
   "cell_type": "markdown",
   "metadata": {},
   "source": [
    "Данные в таблице `ratings` представлены следующими столбцами: `rating_id` идентификатор оценки, `book_id` идентификатор книги,   `username` имя пользователя, оставившего оценку, `rating` оценка книги.  В таблице 6456 строк. Уникальных оценевающих пользователей 160."
   ]
  },
  {
   "cell_type": "markdown",
   "metadata": {},
   "source": [
    "### Таблица `reviews`"
   ]
  },
  {
   "cell_type": "code",
   "execution_count": 15,
   "metadata": {},
   "outputs": [
    {
     "data": {
      "text/html": [
       "<div>\n",
       "<style scoped>\n",
       "    .dataframe tbody tr th:only-of-type {\n",
       "        vertical-align: middle;\n",
       "    }\n",
       "\n",
       "    .dataframe tbody tr th {\n",
       "        vertical-align: top;\n",
       "    }\n",
       "\n",
       "    .dataframe thead th {\n",
       "        text-align: right;\n",
       "    }\n",
       "</style>\n",
       "<table border=\"1\" class=\"dataframe\">\n",
       "  <thead>\n",
       "    <tr style=\"text-align: right;\">\n",
       "      <th></th>\n",
       "      <th>review_id</th>\n",
       "      <th>book_id</th>\n",
       "      <th>username</th>\n",
       "      <th>text</th>\n",
       "    </tr>\n",
       "  </thead>\n",
       "  <tbody>\n",
       "    <tr>\n",
       "      <th>0</th>\n",
       "      <td>1</td>\n",
       "      <td>1</td>\n",
       "      <td>brandtandrea</td>\n",
       "      <td>Mention society tell send professor analysis. ...</td>\n",
       "    </tr>\n",
       "    <tr>\n",
       "      <th>1</th>\n",
       "      <td>2</td>\n",
       "      <td>1</td>\n",
       "      <td>ryanfranco</td>\n",
       "      <td>Foot glass pretty audience hit themselves. Amo...</td>\n",
       "    </tr>\n",
       "    <tr>\n",
       "      <th>2</th>\n",
       "      <td>3</td>\n",
       "      <td>2</td>\n",
       "      <td>lorichen</td>\n",
       "      <td>Listen treat keep worry. Miss husband tax but ...</td>\n",
       "    </tr>\n",
       "    <tr>\n",
       "      <th>3</th>\n",
       "      <td>4</td>\n",
       "      <td>3</td>\n",
       "      <td>johnsonamanda</td>\n",
       "      <td>Finally month interesting blue could nature cu...</td>\n",
       "    </tr>\n",
       "    <tr>\n",
       "      <th>4</th>\n",
       "      <td>5</td>\n",
       "      <td>3</td>\n",
       "      <td>scotttamara</td>\n",
       "      <td>Nation purpose heavy give wait song will. List...</td>\n",
       "    </tr>\n",
       "  </tbody>\n",
       "</table>\n",
       "</div>"
      ],
      "text/plain": [
       "   review_id  book_id       username  \\\n",
       "0          1        1   brandtandrea   \n",
       "1          2        1     ryanfranco   \n",
       "2          3        2       lorichen   \n",
       "3          4        3  johnsonamanda   \n",
       "4          5        3    scotttamara   \n",
       "\n",
       "                                                text  \n",
       "0  Mention society tell send professor analysis. ...  \n",
       "1  Foot glass pretty audience hit themselves. Amo...  \n",
       "2  Listen treat keep worry. Miss husband tax but ...  \n",
       "3  Finally month interesting blue could nature cu...  \n",
       "4  Nation purpose heavy give wait song will. List...  "
      ]
     },
     "execution_count": 15,
     "metadata": {},
     "output_type": "execute_result"
    }
   ],
   "source": [
    "reviews =( '''\n",
    "SELECT \n",
    "    *\n",
    "FROM reviews\n",
    "    LIMIT 5\n",
    "''')    \n",
    "get_sql_data(reviews)"
   ]
  },
  {
   "cell_type": "code",
   "execution_count": 16,
   "metadata": {},
   "outputs": [
    {
     "data": {
      "text/html": [
       "<div>\n",
       "<style scoped>\n",
       "    .dataframe tbody tr th:only-of-type {\n",
       "        vertical-align: middle;\n",
       "    }\n",
       "\n",
       "    .dataframe tbody tr th {\n",
       "        vertical-align: top;\n",
       "    }\n",
       "\n",
       "    .dataframe thead th {\n",
       "        text-align: right;\n",
       "    }\n",
       "</style>\n",
       "<table border=\"1\" class=\"dataframe\">\n",
       "  <thead>\n",
       "    <tr style=\"text-align: right;\">\n",
       "      <th></th>\n",
       "      <th>count</th>\n",
       "      <th>distinct</th>\n",
       "      <th>distinct</th>\n",
       "    </tr>\n",
       "  </thead>\n",
       "  <tbody>\n",
       "    <tr>\n",
       "      <th>0</th>\n",
       "      <td>2793</td>\n",
       "      <td>2793</td>\n",
       "      <td>160</td>\n",
       "    </tr>\n",
       "  </tbody>\n",
       "</table>\n",
       "</div>"
      ],
      "text/plain": [
       "   count  distinct  distinct\n",
       "0   2793      2793       160"
      ]
     },
     "execution_count": 16,
     "metadata": {},
     "output_type": "execute_result"
    }
   ],
   "source": [
    "reviews =( '''\n",
    "SELECT \n",
    "    COUNT(review_id),\n",
    "    COUNT(DISTINCT(review_id)) distinct,\n",
    "    COUNT(DISTINCT(username)) distinct\n",
    "FROM reviews\n",
    "    LIMIT 5\n",
    "''')    \n",
    "get_sql_data(reviews)"
   ]
  },
  {
   "cell_type": "markdown",
   "metadata": {},
   "source": [
    "Данные в таблице `reviews` представлены следующими столбцами: `review_id` идентификатор обзора, `book_id` идентификатор книги,   `username` имя пользователя написавшего обзор, `text` текст обзора.  В таблице 2793 строк. Уникальных критикующих пользователей 160."
   ]
  },
  {
   "cell_type": "markdown",
   "metadata": {},
   "source": [
    "## Детализированное иследование"
   ]
  },
  {
   "cell_type": "markdown",
   "metadata": {},
   "source": [
    "### Анализ даты публикации книги.\n",
    "Посчитайте, сколько книг вышло после 1 января 2000 года"
   ]
  },
  {
   "cell_type": "code",
   "execution_count": 17,
   "metadata": {},
   "outputs": [
    {
     "data": {
      "text/html": [
       "<div>\n",
       "<style scoped>\n",
       "    .dataframe tbody tr th:only-of-type {\n",
       "        vertical-align: middle;\n",
       "    }\n",
       "\n",
       "    .dataframe tbody tr th {\n",
       "        vertical-align: top;\n",
       "    }\n",
       "\n",
       "    .dataframe thead th {\n",
       "        text-align: right;\n",
       "    }\n",
       "</style>\n",
       "<table border=\"1\" class=\"dataframe\">\n",
       "  <thead>\n",
       "    <tr style=\"text-align: right;\">\n",
       "      <th></th>\n",
       "      <th>count</th>\n",
       "    </tr>\n",
       "  </thead>\n",
       "  <tbody>\n",
       "    <tr>\n",
       "      <th>0</th>\n",
       "      <td>819</td>\n",
       "    </tr>\n",
       "  </tbody>\n",
       "</table>\n",
       "</div>"
      ],
      "text/plain": [
       "   count\n",
       "0    819"
      ]
     },
     "execution_count": 17,
     "metadata": {},
     "output_type": "execute_result"
    }
   ],
   "source": [
    "zad_1 =( '''\n",
    "\n",
    "SELECT \n",
    "    COUNT(book_id) \n",
    "FROM books\n",
    "    WHERE CAST(publication_date AS date) > '2000-01-01'\n",
    "\n",
    "''')    \n",
    "get_sql_data(zad_1)"
   ]
  },
  {
   "cell_type": "markdown",
   "metadata": {},
   "source": [
    "Начиная с первого января 2000 года, на сервиве по подписке книг, было опубликованно 819 книг "
   ]
  },
  {
   "cell_type": "markdown",
   "metadata": {},
   "source": [
    "### Анализ количества обзоров и средней оценки."
   ]
  },
  {
   "cell_type": "markdown",
   "metadata": {},
   "source": [
    "Для каждой книги посчитайте количество обзоров и среднюю оценку."
   ]
  },
  {
   "cell_type": "code",
   "execution_count": 18,
   "metadata": {},
   "outputs": [
    {
     "data": {
      "text/html": [
       "<div>\n",
       "<style scoped>\n",
       "    .dataframe tbody tr th:only-of-type {\n",
       "        vertical-align: middle;\n",
       "    }\n",
       "\n",
       "    .dataframe tbody tr th {\n",
       "        vertical-align: top;\n",
       "    }\n",
       "\n",
       "    .dataframe thead th {\n",
       "        text-align: right;\n",
       "    }\n",
       "</style>\n",
       "<table border=\"1\" class=\"dataframe\">\n",
       "  <thead>\n",
       "    <tr style=\"text-align: right;\">\n",
       "      <th></th>\n",
       "      <th>book</th>\n",
       "      <th>count_review</th>\n",
       "      <th>avg_rating</th>\n",
       "    </tr>\n",
       "  </thead>\n",
       "  <tbody>\n",
       "    <tr>\n",
       "      <th>0</th>\n",
       "      <td>A.S. Byatt</td>\n",
       "      <td>3</td>\n",
       "      <td>4.00</td>\n",
       "    </tr>\n",
       "    <tr>\n",
       "      <th>1</th>\n",
       "      <td>Aesop/Laura Harris/Laura Gibbs</td>\n",
       "      <td>2</td>\n",
       "      <td>3.75</td>\n",
       "    </tr>\n",
       "    <tr>\n",
       "      <th>2</th>\n",
       "      <td>Agatha Christie</td>\n",
       "      <td>28</td>\n",
       "      <td>4.28</td>\n",
       "    </tr>\n",
       "    <tr>\n",
       "      <th>3</th>\n",
       "      <td>Alan Brennert</td>\n",
       "      <td>4</td>\n",
       "      <td>3.00</td>\n",
       "    </tr>\n",
       "    <tr>\n",
       "      <th>4</th>\n",
       "      <td>Alan Moore/David   Lloyd</td>\n",
       "      <td>3</td>\n",
       "      <td>4.22</td>\n",
       "    </tr>\n",
       "  </tbody>\n",
       "</table>\n",
       "</div>"
      ],
      "text/plain": [
       "                             book  count_review  avg_rating\n",
       "0                      A.S. Byatt             3        4.00\n",
       "1  Aesop/Laura Harris/Laura Gibbs             2        3.75\n",
       "2                 Agatha Christie            28        4.28\n",
       "3                   Alan Brennert             4        3.00\n",
       "4        Alan Moore/David   Lloyd             3        4.22"
      ]
     },
     "execution_count": 18,
     "metadata": {},
     "output_type": "execute_result"
    }
   ],
   "source": [
    "zad_2 =( '''\n",
    "\n",
    "WITH \n",
    "\n",
    "rat AS (\n",
    "SELECT \n",
    "    a.author book,\n",
    "    AVG(rt.rating) avg_rating\n",
    "FROM books AS b \n",
    "JOIN authors a ON b.author_id=a.author_id\n",
    "LEFT JOIN ratings AS rt ON b.book_id=rt.book_id\n",
    "    GROUP BY a.author\n",
    "    ORDER BY a.author\n",
    "),\n",
    "\n",
    "rev AS(\n",
    "SELECT \n",
    "    a.author book,\n",
    "    COUNT(rv.review_id) count_review\n",
    "FROM books AS b \n",
    "JOIN authors a ON b.author_id=a.author_id\n",
    "LEFT JOIN reviews AS rv ON b.book_id=rv.book_id\n",
    "    GROUP BY a.author\n",
    "    ORDER BY a.author\n",
    ")\n",
    "\n",
    "SELECT \n",
    "    rat.book,\n",
    "    rev.count_review,\n",
    "    ROUND(rat.avg_rating, 2) avg_rating\n",
    "FROM rat \n",
    "JOIN rev ON rat.book=rev.book\n",
    "    LIMIT 5\n",
    "''')    \n",
    "get_sql_data(zad_2)"
   ]
  },
  {
   "cell_type": "markdown",
   "metadata": {},
   "source": [
    "Пользовательские рейтенги книг как и количество проставленных оценок отличаются у разных книг."
   ]
  },
  {
   "cell_type": "code",
   "execution_count": 19,
   "metadata": {},
   "outputs": [
    {
     "data": {
      "text/html": [
       "<div>\n",
       "<style scoped>\n",
       "    .dataframe tbody tr th:only-of-type {\n",
       "        vertical-align: middle;\n",
       "    }\n",
       "\n",
       "    .dataframe tbody tr th {\n",
       "        vertical-align: top;\n",
       "    }\n",
       "\n",
       "    .dataframe thead th {\n",
       "        text-align: right;\n",
       "    }\n",
       "</style>\n",
       "<table border=\"1\" class=\"dataframe\">\n",
       "  <thead>\n",
       "    <tr style=\"text-align: right;\">\n",
       "      <th></th>\n",
       "      <th>avg_review</th>\n",
       "      <th>max_review</th>\n",
       "      <th>min_review</th>\n",
       "      <th>avg_rating</th>\n",
       "      <th>max_rating</th>\n",
       "      <th>min_rating</th>\n",
       "    </tr>\n",
       "  </thead>\n",
       "  <tbody>\n",
       "    <tr>\n",
       "      <th>0</th>\n",
       "      <td>2.79</td>\n",
       "      <td>7</td>\n",
       "      <td>0</td>\n",
       "      <td>3.9</td>\n",
       "      <td>5.0</td>\n",
       "      <td>1.5</td>\n",
       "    </tr>\n",
       "  </tbody>\n",
       "</table>\n",
       "</div>"
      ],
      "text/plain": [
       "   avg_review  max_review  min_review  avg_rating  max_rating  min_rating\n",
       "0        2.79           7           0         3.9         5.0         1.5"
      ]
     },
     "execution_count": 19,
     "metadata": {},
     "output_type": "execute_result"
    }
   ],
   "source": [
    "zad_2 =( '''\n",
    "\n",
    "WITH \n",
    "\n",
    "rat AS (\n",
    "SELECT \n",
    "    b.book_id book,\n",
    "    AVG(rt.rating) avg_rating\n",
    "FROM books AS b \n",
    "LEFT JOIN ratings AS rt ON b.book_id=rt.book_id\n",
    "    GROUP BY b.book_id\n",
    "    ORDER BY b.book_id\n",
    "),\n",
    "\n",
    "rev AS(\n",
    "SELECT \n",
    "    b.book_id book,\n",
    "    COUNT(rv.review_id) count_review\n",
    "FROM books AS b \n",
    "LEFT JOIN reviews AS rv ON b.book_id=rv.book_id\n",
    "    GROUP BY b.book_id\n",
    "    ORDER BY b.book_id\n",
    "),\n",
    "\n",
    "alls AS(\n",
    "SELECT \n",
    "    rat.book,\n",
    "    rev.count_review,\n",
    "    ROUND(rat.avg_rating, 2) avg_rating\n",
    "FROM rat \n",
    "JOIN rev ON rat.book=rev.book\n",
    ")\n",
    " \n",
    "SELECT \n",
    "    ROUND(AVG(count_review), 2) avg_review,    \n",
    "    MAX(count_review) max_review,\n",
    "    MIN(count_review) min_review,\n",
    "    ROUND(AVG(avg_rating), 2) avg_rating,\n",
    "    MAX(avg_rating) max_rating,\n",
    "    MIN(avg_rating) min_rating\n",
    "FROM\n",
    "    alls\n",
    "\n",
    "    \n",
    "   \n",
    "''')    \n",
    "get_sql_data(zad_2)"
   ]
  },
  {
   "cell_type": "markdown",
   "metadata": {},
   "source": [
    "Среднее количество просмотров рамно 2,79, максимальное количество просмотров 7,\n",
    "минимальное 0. Средний рейтинг книги равен 3,9 максимальный 5, минимальный 1,5"
   ]
  },
  {
   "cell_type": "markdown",
   "metadata": {},
   "source": [
    "### Анализ издательств"
   ]
  },
  {
   "cell_type": "markdown",
   "metadata": {},
   "source": [
    "Определите издательство, которое выпустило наибольшее число книг толще\n",
    "50 страниц — так вы исключите из анализа брошюры;"
   ]
  },
  {
   "cell_type": "code",
   "execution_count": 20,
   "metadata": {},
   "outputs": [
    {
     "data": {
      "text/html": [
       "<div>\n",
       "<style scoped>\n",
       "    .dataframe tbody tr th:only-of-type {\n",
       "        vertical-align: middle;\n",
       "    }\n",
       "\n",
       "    .dataframe tbody tr th {\n",
       "        vertical-align: top;\n",
       "    }\n",
       "\n",
       "    .dataframe thead th {\n",
       "        text-align: right;\n",
       "    }\n",
       "</style>\n",
       "<table border=\"1\" class=\"dataframe\">\n",
       "  <thead>\n",
       "    <tr style=\"text-align: right;\">\n",
       "      <th></th>\n",
       "      <th>count</th>\n",
       "      <th>publisher_id</th>\n",
       "      <th>publisher</th>\n",
       "    </tr>\n",
       "  </thead>\n",
       "  <tbody>\n",
       "    <tr>\n",
       "      <th>0</th>\n",
       "      <td>42</td>\n",
       "      <td>212</td>\n",
       "      <td>Penguin Books</td>\n",
       "    </tr>\n",
       "  </tbody>\n",
       "</table>\n",
       "</div>"
      ],
      "text/plain": [
       "   count  publisher_id      publisher\n",
       "0     42           212  Penguin Books"
      ]
     },
     "execution_count": 20,
     "metadata": {},
     "output_type": "execute_result"
    }
   ],
   "source": [
    "zad_3 =( '''\n",
    "\n",
    "SELECT \n",
    "    COUNT(b.book_id),\n",
    "    p.publisher_id,\n",
    "    publisher\n",
    "FROM books b\n",
    "LEFT JOIN publishers p ON b.publisher_id=p.publisher_id\n",
    "    WHERE num_pages > 50\n",
    "    GROUP BY p.publisher_id\n",
    "    ORDER BY COUNT(b.book_id) DESC\n",
    "LIMIT 1\n",
    "\n",
    "''')    \n",
    "get_sql_data(zad_3)"
   ]
  },
  {
   "cell_type": "markdown",
   "metadata": {},
   "source": [
    "`Penguin Books` Это издательство выпустило 42 книги объемом более 50 страниц, что является максимальным количеством таких книг "
   ]
  },
  {
   "cell_type": "markdown",
   "metadata": {},
   "source": [
    "### Анализ авторов"
   ]
  },
  {
   "cell_type": "markdown",
   "metadata": {},
   "source": [
    "Определите автора с самой высокой средней оценкой книг — учитывайте\n",
    "только книги с 50 и более оценками;"
   ]
  },
  {
   "cell_type": "code",
   "execution_count": 21,
   "metadata": {},
   "outputs": [
    {
     "data": {
      "text/html": [
       "<div>\n",
       "<style scoped>\n",
       "    .dataframe tbody tr th:only-of-type {\n",
       "        vertical-align: middle;\n",
       "    }\n",
       "\n",
       "    .dataframe tbody tr th {\n",
       "        vertical-align: top;\n",
       "    }\n",
       "\n",
       "    .dataframe thead th {\n",
       "        text-align: right;\n",
       "    }\n",
       "</style>\n",
       "<table border=\"1\" class=\"dataframe\">\n",
       "  <thead>\n",
       "    <tr style=\"text-align: right;\">\n",
       "      <th></th>\n",
       "      <th>author_id</th>\n",
       "    </tr>\n",
       "  </thead>\n",
       "  <tbody>\n",
       "    <tr>\n",
       "      <th>0</th>\n",
       "      <td>236</td>\n",
       "    </tr>\n",
       "  </tbody>\n",
       "</table>\n",
       "</div>"
      ],
      "text/plain": [
       "   author_id\n",
       "0        236"
      ]
     },
     "execution_count": 21,
     "metadata": {},
     "output_type": "execute_result"
    }
   ],
   "source": [
    "zad_4 =( '''\n",
    "SELECT \n",
    "    a.author_id\n",
    "FROM author a\n",
    "LEFT JOIN books b ON a.author_id=b.author_id\n",
    "WHERE b.book_id IN (\n",
    "    SELECT \n",
    "        b.book_id\n",
    "    FROM books b\n",
    "    JOIN authors a ON b.author_id=a.author_id\n",
    "    LEFT JOIN ratings r ON b.book_id=r.book_id\n",
    "        GROUP BY b.book_id\n",
    "        HAVING COUNT(r.username) >= 50\n",
    "        ORDER BY AVG(r.rating) DESC, COUNT(r.username) DESC\n",
    "   )\n",
    "LIMIT 1\n",
    "''')    \n",
    "get_sql_data(zad_4)"
   ]
  },
  {
   "cell_type": "code",
   "execution_count": 22,
   "metadata": {},
   "outputs": [
    {
     "data": {
      "text/html": [
       "<div>\n",
       "<style scoped>\n",
       "    .dataframe tbody tr th:only-of-type {\n",
       "        vertical-align: middle;\n",
       "    }\n",
       "\n",
       "    .dataframe tbody tr th {\n",
       "        vertical-align: top;\n",
       "    }\n",
       "\n",
       "    .dataframe thead th {\n",
       "        text-align: right;\n",
       "    }\n",
       "</style>\n",
       "<table border=\"1\" class=\"dataframe\">\n",
       "  <thead>\n",
       "    <tr style=\"text-align: right;\">\n",
       "      <th></th>\n",
       "      <th>author</th>\n",
       "      <th>avg_rating</th>\n",
       "    </tr>\n",
       "  </thead>\n",
       "  <tbody>\n",
       "    <tr>\n",
       "      <th>0</th>\n",
       "      <td>J.K. Rowling/Mary GrandPré</td>\n",
       "      <td>4.287097</td>\n",
       "    </tr>\n",
       "  </tbody>\n",
       "</table>\n",
       "</div>"
      ],
      "text/plain": [
       "                       author  avg_rating\n",
       "0  J.K. Rowling/Mary GrandPré    4.287097"
      ]
     },
     "execution_count": 22,
     "metadata": {},
     "output_type": "execute_result"
    }
   ],
   "source": [
    "zad_4 =( '''\n",
    "\n",
    "SELECT \n",
    "    a.author,\n",
    "    ROUND(AVG(rating), 6) avg_rating\n",
    "FROM authors a\n",
    "LEFT JOIN books b ON a.author_id=b.author_id\n",
    "LEFT JOIN ratings r ON r.book_id=b.book_id\n",
    "WHERE b.book_id IN (\n",
    "    SELECT \n",
    "        b.book_id\n",
    "    FROM books b\n",
    "    JOIN authors a ON b.author_id=a.author_id\n",
    "    LEFT JOIN ratings r ON b.book_id=r.book_id\n",
    "        GROUP BY b.book_id\n",
    "        HAVING COUNT(r.username) >= 50\n",
    "        ORDER BY  COUNT(r.username) DESC)\n",
    "GROUP BY a.author    \n",
    "ORDER BY AVG(rating) desc\n",
    "LIMIT 1\n",
    "\n",
    "\n",
    "''')    \n",
    "get_sql_data(zad_4)"
   ]
  },
  {
   "cell_type": "markdown",
   "metadata": {},
   "source": [
    "Максимальный средний рейтинг, среди книг с пятидесятью и более оценками, равен 4,29 и он принаджежит слудующему автору `J.K. Rowling/Mary GrandPré`. "
   ]
  },
  {
   "cell_type": "markdown",
   "metadata": {},
   "source": [
    "### Анализ обзоров"
   ]
  },
  {
   "cell_type": "markdown",
   "metadata": {},
   "source": [
    "Посчитайте среднее количество обзоров от пользователей, которые поставили\n",
    "больше 48 оценок."
   ]
  },
  {
   "cell_type": "code",
   "execution_count": 23,
   "metadata": {},
   "outputs": [
    {
     "data": {
      "text/html": [
       "<div>\n",
       "<style scoped>\n",
       "    .dataframe tbody tr th:only-of-type {\n",
       "        vertical-align: middle;\n",
       "    }\n",
       "\n",
       "    .dataframe tbody tr th {\n",
       "        vertical-align: top;\n",
       "    }\n",
       "\n",
       "    .dataframe thead th {\n",
       "        text-align: right;\n",
       "    }\n",
       "</style>\n",
       "<table border=\"1\" class=\"dataframe\">\n",
       "  <thead>\n",
       "    <tr style=\"text-align: right;\">\n",
       "      <th></th>\n",
       "      <th>avg_reviews</th>\n",
       "    </tr>\n",
       "  </thead>\n",
       "  <tbody>\n",
       "    <tr>\n",
       "      <th>0</th>\n",
       "      <td>24.0</td>\n",
       "    </tr>\n",
       "  </tbody>\n",
       "</table>\n",
       "</div>"
      ],
      "text/plain": [
       "   avg_reviews\n",
       "0         24.0"
      ]
     },
     "execution_count": 23,
     "metadata": {},
     "output_type": "execute_result"
    }
   ],
   "source": [
    "zad_5 =( '''\n",
    "\n",
    "SELECT \n",
    "    AVG(count_reviews) avg_reviews\n",
    "FROM (\n",
    "    SELECT \n",
    "        COUNT(review_id) count_reviews,\n",
    "        username\n",
    "    FROM reviews\n",
    "        WHERE username IN (\n",
    "            SELECT \n",
    "                username\n",
    "            FROM ratings\n",
    "                GROUP BY username\n",
    "                HAVING COUNT(rating_id) > 48\n",
    "            )\n",
    "        GROUP BY username    \n",
    ") AS f\n",
    "\n",
    "\n",
    "''')    \n",
    "get_sql_data(zad_5)"
   ]
  },
  {
   "cell_type": "code",
   "execution_count": 24,
   "metadata": {},
   "outputs": [
    {
     "data": {
      "text/html": [
       "<div>\n",
       "<style scoped>\n",
       "    .dataframe tbody tr th:only-of-type {\n",
       "        vertical-align: middle;\n",
       "    }\n",
       "\n",
       "    .dataframe tbody tr th {\n",
       "        vertical-align: top;\n",
       "    }\n",
       "\n",
       "    .dataframe thead th {\n",
       "        text-align: right;\n",
       "    }\n",
       "</style>\n",
       "<table border=\"1\" class=\"dataframe\">\n",
       "  <thead>\n",
       "    <tr style=\"text-align: right;\">\n",
       "      <th></th>\n",
       "      <th>count_reviews</th>\n",
       "    </tr>\n",
       "  </thead>\n",
       "  <tbody>\n",
       "    <tr>\n",
       "      <th>0</th>\n",
       "      <td>13</td>\n",
       "    </tr>\n",
       "  </tbody>\n",
       "</table>\n",
       "</div>"
      ],
      "text/plain": [
       "   count_reviews\n",
       "0             13"
      ]
     },
     "execution_count": 24,
     "metadata": {},
     "output_type": "execute_result"
    }
   ],
   "source": [
    "zad_5 =( '''\n",
    "\n",
    "SELECT \n",
    "    COUNT(count_reviews) count_reviews\n",
    "FROM (\n",
    "    SELECT \n",
    "        COUNT(review_id) count_reviews,\n",
    "        username\n",
    "    FROM reviews\n",
    "        WHERE username IN (\n",
    "            SELECT \n",
    "                username\n",
    "            FROM ratings\n",
    "                GROUP BY username\n",
    "                HAVING COUNT(rating_id) > 48\n",
    "            )\n",
    "        GROUP BY username    \n",
    ") AS f\n",
    "\n",
    "\n",
    "''')    \n",
    "get_sql_data(zad_5)"
   ]
  },
  {
   "cell_type": "markdown",
   "metadata": {},
   "source": [
    "Средннее количество обзоров пользователей, которые поставили более 48 оценок, равно 24 обзора. Общее количество таких пользователей 13"
   ]
  },
  {
   "cell_type": "markdown",
   "metadata": {},
   "source": [
    "## Вывод"
   ]
  },
  {
   "cell_type": "markdown",
   "metadata": {},
   "source": [
    "Данные в таблице `books` представлены следующими столбцами: `book_id` идентификатор книги, `author_id` идентификатор автора,  `title` название книги, `num_pages` количество страниц, `publication_date` дата публикации книги, `publisher_id` идентификатор издателя. В таблице 1000 строк. Уникальных названий книг 999"
   ]
  },
  {
   "cell_type": "markdown",
   "metadata": {},
   "source": [
    "Данные в таблице `authors` представлены следующими столбцами: `author_id` идентификатор автора,  `author` имя автора.  В таблице 636 строк. Уникальных авторов 636"
   ]
  },
  {
   "cell_type": "markdown",
   "metadata": {},
   "source": [
    "Данные в таблице `publishers` представлены следующими столбцами: `publisher_id` идентификатор издателя, `publisher` название издательства. В таблице 340 строк. Уникальных издательств 340"
   ]
  },
  {
   "cell_type": "markdown",
   "metadata": {},
   "source": [
    "Данные в таблице `ratings` представлены следующими столбцами: `rating_id` идентификатор оценки, `book_id` идентификатор книги,   `username` имя пользователя, оставившего оценку, `rating` оценка книги.  В таблице 6456 строк. Уникальных оценевающих пользователей 160."
   ]
  },
  {
   "cell_type": "markdown",
   "metadata": {},
   "source": [
    "Данные в таблице `reviews` представлены следующими столбцами: `review_id` идентификатор обзора, `book_id` идентификатор книги,   `username` имя пользователя написавшего обзор, `text` текст обзора.  В таблице 2793 строк. Уникальных критикующих пользователей 160."
   ]
  },
  {
   "cell_type": "markdown",
   "metadata": {},
   "source": [
    "Начиная с первого января 2000 года, на сервиве по подписке книг, было опубликованно 819 книг"
   ]
  },
  {
   "cell_type": "markdown",
   "metadata": {},
   "source": [
    "Пользовательские рейтенги книг как и количество проставленных оценок отличаются у разных книг."
   ]
  },
  {
   "cell_type": "markdown",
   "metadata": {},
   "source": [
    "Среднее количество обзоров ровно 2,79, максимальное количество просмотров 7,\n",
    "минимальное 0. Средний рейтинг книги равен 3,9 максимальный 5, минимальный 1,5"
   ]
  },
  {
   "cell_type": "markdown",
   "metadata": {},
   "source": [
    "`Penguin Books` Это издательство выпустило 42 книги объемом более 50 страниц, что является максимальным количеством таких книг "
   ]
  },
  {
   "cell_type": "markdown",
   "metadata": {},
   "source": [
    "Максимальный средний рейтинг, среди книг с пятидесятью и более оценками, равен 4,29 и он принаджежит слудующему автору `J.K. Rowling/Mary GrandPré`. \n"
   ]
  },
  {
   "cell_type": "markdown",
   "metadata": {},
   "source": [
    "Средннее количество обзоров пользователей, которые поставили более 48 оценок, равно 24 обзора."
   ]
  },
  {
   "cell_type": "markdown",
   "metadata": {},
   "source": [
    "### Итоговый вывод"
   ]
  },
  {
   "cell_type": "markdown",
   "metadata": {},
   "source": [
    "Куплен маленький сервис для чтения книг по подписке,  в сервисе представлено всего 1000 книг 81% из которых современные.  На сервисе публикуются 636 авторов из 340  издательств. Рейтинги и обзоры на сервисе отличаются, они \"не накручены\", но активная аудитория малеленькая, всего из 160 пользователей 13 активных."
   ]
  },
  {
   "cell_type": "markdown",
   "metadata": {},
   "source": [
    "### Рекомендации\n",
    "- необходимо увеличивать количество книг на сервисе.\n",
    "- необходимо привлекать как авторов так и издательства.\n",
    "- Необходимо увеличивать как саму аудиторию читателей, так и ее активность.\n"
   ]
  },
  {
   "cell_type": "code",
   "execution_count": null,
   "metadata": {},
   "outputs": [],
   "source": []
  }
 ],
 "metadata": {
  "ExecuteTimeLog": [
   {
    "duration": 581,
    "start_time": "2024-03-16T09:08:23.068Z"
   },
   {
    "duration": 3,
    "start_time": "2024-03-16T09:08:23.651Z"
   },
   {
    "duration": 4,
    "start_time": "2024-03-16T09:08:23.656Z"
   },
   {
    "duration": 7703,
    "start_time": "2024-03-16T09:08:23.662Z"
   },
   {
    "duration": 4,
    "start_time": "2024-03-16T09:08:31.367Z"
   },
   {
    "duration": 318,
    "start_time": "2024-03-16T09:08:31.372Z"
   },
   {
    "duration": 54,
    "start_time": "2024-03-16T09:08:31.692Z"
   },
   {
    "duration": 53,
    "start_time": "2024-03-16T09:08:31.747Z"
   },
   {
    "duration": 55,
    "start_time": "2024-03-16T09:08:31.802Z"
   },
   {
    "duration": 54,
    "start_time": "2024-03-16T09:08:31.861Z"
   },
   {
    "duration": 52,
    "start_time": "2024-03-16T09:08:31.916Z"
   },
   {
    "duration": 62,
    "start_time": "2024-03-16T09:08:31.970Z"
   },
   {
    "duration": 57,
    "start_time": "2024-03-16T09:08:32.034Z"
   },
   {
    "duration": 53,
    "start_time": "2024-03-16T09:08:32.093Z"
   },
   {
    "duration": 55,
    "start_time": "2024-03-16T09:08:32.148Z"
   },
   {
    "duration": 50,
    "start_time": "2024-03-16T09:08:32.205Z"
   },
   {
    "duration": 59,
    "start_time": "2024-03-16T09:08:32.257Z"
   },
   {
    "duration": 60,
    "start_time": "2024-03-16T09:08:32.318Z"
   },
   {
    "duration": 52,
    "start_time": "2024-03-16T09:08:32.380Z"
   },
   {
    "duration": 55,
    "start_time": "2024-03-16T09:08:32.434Z"
   },
   {
    "duration": 56,
    "start_time": "2024-03-16T09:08:32.491Z"
   },
   {
    "duration": 56,
    "start_time": "2024-03-16T09:08:32.549Z"
   },
   {
    "duration": 54,
    "start_time": "2024-03-16T09:27:03.479Z"
   },
   {
    "duration": 53,
    "start_time": "2024-03-16T09:28:01.260Z"
   },
   {
    "duration": 52,
    "start_time": "2024-03-16T09:28:59.744Z"
   },
   {
    "duration": 53,
    "start_time": "2024-03-16T09:29:11.099Z"
   },
   {
    "duration": 532,
    "start_time": "2024-03-16T09:33:16.143Z"
   },
   {
    "duration": 5,
    "start_time": "2024-03-16T09:33:16.677Z"
   },
   {
    "duration": 28,
    "start_time": "2024-03-16T09:33:16.683Z"
   },
   {
    "duration": 7572,
    "start_time": "2024-03-16T09:33:16.714Z"
   },
   {
    "duration": 3,
    "start_time": "2024-03-16T09:33:24.288Z"
   },
   {
    "duration": 240,
    "start_time": "2024-03-16T09:33:24.293Z"
   },
   {
    "duration": 53,
    "start_time": "2024-03-16T09:33:24.534Z"
   },
   {
    "duration": 52,
    "start_time": "2024-03-16T09:33:24.588Z"
   },
   {
    "duration": 52,
    "start_time": "2024-03-16T09:33:24.641Z"
   },
   {
    "duration": 51,
    "start_time": "2024-03-16T09:33:24.696Z"
   },
   {
    "duration": 52,
    "start_time": "2024-03-16T09:33:24.748Z"
   },
   {
    "duration": 52,
    "start_time": "2024-03-16T09:33:24.802Z"
   },
   {
    "duration": 54,
    "start_time": "2024-03-16T09:33:24.856Z"
   },
   {
    "duration": 55,
    "start_time": "2024-03-16T09:33:24.912Z"
   },
   {
    "duration": 54,
    "start_time": "2024-03-16T09:33:24.968Z"
   },
   {
    "duration": 51,
    "start_time": "2024-03-16T09:33:25.023Z"
   },
   {
    "duration": 57,
    "start_time": "2024-03-16T09:33:25.076Z"
   },
   {
    "duration": 61,
    "start_time": "2024-03-16T09:33:25.135Z"
   },
   {
    "duration": 54,
    "start_time": "2024-03-16T09:33:25.198Z"
   },
   {
    "duration": 55,
    "start_time": "2024-03-16T09:33:25.254Z"
   },
   {
    "duration": 56,
    "start_time": "2024-03-16T09:33:25.310Z"
   },
   {
    "duration": 55,
    "start_time": "2024-03-16T09:33:25.368Z"
   },
   {
    "duration": 54,
    "start_time": "2024-03-16T09:33:25.424Z"
   },
   {
    "duration": 53,
    "start_time": "2024-03-17T09:54:00.378Z"
   },
   {
    "duration": 538,
    "start_time": "2024-03-17T09:54:07.495Z"
   },
   {
    "duration": 3,
    "start_time": "2024-03-17T09:54:08.035Z"
   },
   {
    "duration": 131,
    "start_time": "2024-03-17T09:54:08.040Z"
   },
   {
    "duration": 10660,
    "start_time": "2024-03-17T09:54:08.173Z"
   },
   {
    "duration": 2,
    "start_time": "2024-03-17T09:54:18.835Z"
   },
   {
    "duration": 67,
    "start_time": "2024-03-17T09:54:18.839Z"
   },
   {
    "duration": 11,
    "start_time": "2024-03-17T09:54:18.907Z"
   },
   {
    "duration": 10,
    "start_time": "2024-03-17T09:54:18.920Z"
   },
   {
    "duration": 14,
    "start_time": "2024-03-17T09:54:18.931Z"
   },
   {
    "duration": 10,
    "start_time": "2024-03-17T09:54:18.947Z"
   },
   {
    "duration": 9,
    "start_time": "2024-03-17T09:54:18.959Z"
   },
   {
    "duration": 26,
    "start_time": "2024-03-17T09:54:18.970Z"
   },
   {
    "duration": 13,
    "start_time": "2024-03-17T09:54:18.998Z"
   },
   {
    "duration": 12,
    "start_time": "2024-03-17T09:54:19.012Z"
   },
   {
    "duration": 11,
    "start_time": "2024-03-17T09:54:19.025Z"
   },
   {
    "duration": 11,
    "start_time": "2024-03-17T09:54:19.037Z"
   },
   {
    "duration": 16,
    "start_time": "2024-03-17T09:54:19.049Z"
   },
   {
    "duration": 26,
    "start_time": "2024-03-17T09:54:19.067Z"
   },
   {
    "duration": 11,
    "start_time": "2024-03-17T09:54:19.095Z"
   },
   {
    "duration": 13,
    "start_time": "2024-03-17T09:54:19.108Z"
   },
   {
    "duration": 20,
    "start_time": "2024-03-17T09:54:19.122Z"
   },
   {
    "duration": 12,
    "start_time": "2024-03-17T09:54:19.144Z"
   },
   {
    "duration": 11,
    "start_time": "2024-03-17T09:54:19.157Z"
   },
   {
    "duration": 19,
    "start_time": "2024-03-17T09:54:19.169Z"
   },
   {
    "duration": 86,
    "start_time": "2024-03-17T09:55:35.545Z"
   },
   {
    "duration": 59,
    "start_time": "2024-03-17T09:55:52.595Z"
   },
   {
    "duration": 55,
    "start_time": "2024-03-17T09:56:52.184Z"
   },
   {
    "duration": 21,
    "start_time": "2024-03-17T09:59:17.153Z"
   },
   {
    "duration": 19,
    "start_time": "2024-03-17T09:59:22.446Z"
   },
   {
    "duration": 15,
    "start_time": "2024-03-17T10:00:00.233Z"
   },
   {
    "duration": 15,
    "start_time": "2024-03-17T10:00:13.562Z"
   },
   {
    "duration": 96,
    "start_time": "2024-03-17T10:00:18.766Z"
   },
   {
    "duration": 22,
    "start_time": "2024-03-17T10:01:23.800Z"
   },
   {
    "duration": 19,
    "start_time": "2024-03-17T10:01:28.841Z"
   },
   {
    "duration": 17,
    "start_time": "2024-03-17T10:02:26.002Z"
   },
   {
    "duration": 17,
    "start_time": "2024-03-17T10:02:44.335Z"
   },
   {
    "duration": 13,
    "start_time": "2024-03-17T10:04:41.803Z"
   },
   {
    "duration": 13,
    "start_time": "2024-03-17T10:04:55.703Z"
   },
   {
    "duration": 16,
    "start_time": "2024-03-17T10:05:32.966Z"
   },
   {
    "duration": 22,
    "start_time": "2024-03-17T10:06:14.139Z"
   },
   {
    "duration": 17,
    "start_time": "2024-03-17T10:06:41.328Z"
   },
   {
    "duration": 14,
    "start_time": "2024-03-17T10:09:03.406Z"
   },
   {
    "duration": 22,
    "start_time": "2024-03-17T10:10:54.898Z"
   },
   {
    "duration": 14,
    "start_time": "2024-03-17T10:11:11.793Z"
   },
   {
    "duration": 18,
    "start_time": "2024-03-17T10:11:57.777Z"
   },
   {
    "duration": 22,
    "start_time": "2024-03-17T10:13:19.375Z"
   },
   {
    "duration": 16,
    "start_time": "2024-03-17T10:13:32.641Z"
   },
   {
    "duration": 15,
    "start_time": "2024-03-17T10:14:30.403Z"
   },
   {
    "duration": 16,
    "start_time": "2024-03-17T10:15:55.948Z"
   },
   {
    "duration": 15,
    "start_time": "2024-03-17T10:16:50.170Z"
   },
   {
    "duration": 14,
    "start_time": "2024-03-17T10:16:53.664Z"
   },
   {
    "duration": 9,
    "start_time": "2024-03-17T10:18:27.268Z"
   },
   {
    "duration": 831,
    "start_time": "2024-03-17T10:25:44.301Z"
   },
   {
    "duration": 53,
    "start_time": "2024-03-17T10:27:00.204Z"
   },
   {
    "duration": 56,
    "start_time": "2024-03-17T10:30:17.304Z"
   },
   {
    "duration": 22,
    "start_time": "2024-03-17T10:31:13.827Z"
   },
   {
    "duration": 20,
    "start_time": "2024-03-17T10:31:42.668Z"
   },
   {
    "duration": 23,
    "start_time": "2024-03-17T10:32:56.055Z"
   },
   {
    "duration": 18,
    "start_time": "2024-03-17T10:33:34.810Z"
   },
   {
    "duration": 21,
    "start_time": "2024-03-17T10:36:55.703Z"
   },
   {
    "duration": 18,
    "start_time": "2024-03-17T10:37:09.908Z"
   },
   {
    "duration": 14,
    "start_time": "2024-03-17T10:48:36.016Z"
   },
   {
    "duration": 15,
    "start_time": "2024-03-17T10:48:43.307Z"
   },
   {
    "duration": 547,
    "start_time": "2024-03-17T15:46:57.372Z"
   },
   {
    "duration": 3,
    "start_time": "2024-03-17T15:46:57.921Z"
   },
   {
    "duration": 4,
    "start_time": "2024-03-17T15:46:57.925Z"
   },
   {
    "duration": 10864,
    "start_time": "2024-03-17T15:46:57.931Z"
   },
   {
    "duration": 3,
    "start_time": "2024-03-17T15:47:08.797Z"
   },
   {
    "duration": 53,
    "start_time": "2024-03-17T15:47:08.801Z"
   },
   {
    "duration": 11,
    "start_time": "2024-03-17T15:47:08.856Z"
   },
   {
    "duration": 10,
    "start_time": "2024-03-17T15:47:08.868Z"
   },
   {
    "duration": 13,
    "start_time": "2024-03-17T15:47:08.880Z"
   },
   {
    "duration": 11,
    "start_time": "2024-03-17T15:47:08.895Z"
   },
   {
    "duration": 10,
    "start_time": "2024-03-17T15:47:08.907Z"
   },
   {
    "duration": 10,
    "start_time": "2024-03-17T15:47:08.919Z"
   },
   {
    "duration": 18,
    "start_time": "2024-03-17T15:47:08.931Z"
   },
   {
    "duration": 11,
    "start_time": "2024-03-17T15:47:08.952Z"
   },
   {
    "duration": 27,
    "start_time": "2024-03-17T15:47:08.965Z"
   },
   {
    "duration": 12,
    "start_time": "2024-03-17T15:47:08.995Z"
   },
   {
    "duration": 23,
    "start_time": "2024-03-17T15:47:09.009Z"
   },
   {
    "duration": 24,
    "start_time": "2024-03-17T15:47:09.034Z"
   },
   {
    "duration": 11,
    "start_time": "2024-03-17T15:47:09.060Z"
   },
   {
    "duration": 19,
    "start_time": "2024-03-17T15:47:09.073Z"
   },
   {
    "duration": 14,
    "start_time": "2024-03-17T15:47:09.093Z"
   },
   {
    "duration": 12,
    "start_time": "2024-03-17T15:47:09.108Z"
   },
   {
    "duration": 11,
    "start_time": "2024-03-17T15:47:09.121Z"
   },
   {
    "duration": 97,
    "start_time": "2024-03-17T15:50:05.182Z"
   },
   {
    "duration": 16,
    "start_time": "2024-03-17T15:50:34.707Z"
   },
   {
    "duration": 16,
    "start_time": "2024-03-17T15:52:27.585Z"
   },
   {
    "duration": 23,
    "start_time": "2024-03-17T15:54:38.001Z"
   },
   {
    "duration": 24,
    "start_time": "2024-03-17T15:54:55.679Z"
   },
   {
    "duration": 23,
    "start_time": "2024-03-17T15:55:19.264Z"
   },
   {
    "duration": 14,
    "start_time": "2024-03-17T15:56:02.640Z"
   },
   {
    "duration": 23,
    "start_time": "2024-03-17T15:58:25.737Z"
   },
   {
    "duration": 25,
    "start_time": "2024-03-17T15:58:39.316Z"
   },
   {
    "duration": 19,
    "start_time": "2024-03-17T15:59:54.581Z"
   },
   {
    "duration": 20,
    "start_time": "2024-03-17T16:00:13.467Z"
   },
   {
    "duration": 20,
    "start_time": "2024-03-17T16:00:40.252Z"
   },
   {
    "duration": 23,
    "start_time": "2024-03-17T16:00:56.496Z"
   },
   {
    "duration": 14,
    "start_time": "2024-03-17T16:01:00.328Z"
   },
   {
    "duration": 19,
    "start_time": "2024-03-17T16:01:39.057Z"
   },
   {
    "duration": 16,
    "start_time": "2024-03-17T16:02:35.940Z"
   },
   {
    "duration": 16,
    "start_time": "2024-03-17T16:03:20.167Z"
   },
   {
    "duration": 21,
    "start_time": "2024-03-17T16:04:04.531Z"
   },
   {
    "duration": 22,
    "start_time": "2024-03-17T16:05:26.495Z"
   },
   {
    "duration": 44,
    "start_time": "2024-03-17T16:05:31.609Z"
   },
   {
    "duration": 17,
    "start_time": "2024-03-17T16:05:47.730Z"
   },
   {
    "duration": 18,
    "start_time": "2024-03-17T16:05:56.406Z"
   },
   {
    "duration": 18,
    "start_time": "2024-03-17T16:06:03.918Z"
   },
   {
    "duration": 16,
    "start_time": "2024-03-17T16:09:24.297Z"
   },
   {
    "duration": 535,
    "start_time": "2024-03-17T16:09:31.700Z"
   },
   {
    "duration": 3,
    "start_time": "2024-03-17T16:09:32.237Z"
   },
   {
    "duration": 42,
    "start_time": "2024-03-17T16:09:32.241Z"
   },
   {
    "duration": 10622,
    "start_time": "2024-03-17T16:09:32.285Z"
   },
   {
    "duration": 4,
    "start_time": "2024-03-17T16:09:42.909Z"
   },
   {
    "duration": 48,
    "start_time": "2024-03-17T16:09:42.915Z"
   },
   {
    "duration": 10,
    "start_time": "2024-03-17T16:09:42.964Z"
   },
   {
    "duration": 10,
    "start_time": "2024-03-17T16:09:42.975Z"
   },
   {
    "duration": 16,
    "start_time": "2024-03-17T16:09:42.986Z"
   },
   {
    "duration": 9,
    "start_time": "2024-03-17T16:09:43.005Z"
   },
   {
    "duration": 23,
    "start_time": "2024-03-17T16:09:43.016Z"
   },
   {
    "duration": 20,
    "start_time": "2024-03-17T16:09:43.040Z"
   },
   {
    "duration": 12,
    "start_time": "2024-03-17T16:09:43.061Z"
   },
   {
    "duration": 10,
    "start_time": "2024-03-17T16:09:43.074Z"
   },
   {
    "duration": 12,
    "start_time": "2024-03-17T16:09:43.085Z"
   },
   {
    "duration": 9,
    "start_time": "2024-03-17T16:09:43.099Z"
   },
   {
    "duration": 17,
    "start_time": "2024-03-17T16:09:43.109Z"
   },
   {
    "duration": 18,
    "start_time": "2024-03-17T16:09:43.127Z"
   },
   {
    "duration": 10,
    "start_time": "2024-03-17T16:09:43.146Z"
   },
   {
    "duration": 14,
    "start_time": "2024-03-17T16:09:43.158Z"
   },
   {
    "duration": 15,
    "start_time": "2024-03-17T16:09:43.173Z"
   },
   {
    "duration": 11,
    "start_time": "2024-03-17T16:09:43.190Z"
   },
   {
    "duration": 11,
    "start_time": "2024-03-17T16:09:43.202Z"
   },
   {
    "duration": 21,
    "start_time": "2024-03-17T16:53:33.595Z"
   },
   {
    "duration": 89,
    "start_time": "2024-03-17T16:55:21.309Z"
   },
   {
    "duration": 30,
    "start_time": "2024-03-17T16:55:30.564Z"
   },
   {
    "duration": 22,
    "start_time": "2024-03-17T16:55:42.942Z"
   },
   {
    "duration": 19,
    "start_time": "2024-03-17T16:55:46.604Z"
   },
   {
    "duration": 15,
    "start_time": "2024-03-17T16:56:41.185Z"
   },
   {
    "duration": 22,
    "start_time": "2024-03-17T16:57:05.286Z"
   },
   {
    "duration": 13,
    "start_time": "2024-03-17T16:57:13.996Z"
   },
   {
    "duration": 23,
    "start_time": "2024-03-17T16:57:28.903Z"
   },
   {
    "duration": 22,
    "start_time": "2024-03-17T16:57:36.191Z"
   },
   {
    "duration": 23,
    "start_time": "2024-03-17T16:57:47.612Z"
   },
   {
    "duration": 22,
    "start_time": "2024-03-17T16:58:09.052Z"
   },
   {
    "duration": 24,
    "start_time": "2024-03-17T16:58:19.134Z"
   },
   {
    "duration": 25,
    "start_time": "2024-03-17T16:59:10.553Z"
   },
   {
    "duration": 21,
    "start_time": "2024-03-17T16:59:22.184Z"
   },
   {
    "duration": 14,
    "start_time": "2024-03-17T16:59:43.449Z"
   },
   {
    "duration": 57,
    "start_time": "2024-03-17T17:00:01.709Z"
   },
   {
    "duration": 21,
    "start_time": "2024-03-17T17:01:20.168Z"
   },
   {
    "duration": 21,
    "start_time": "2024-03-17T17:01:36.466Z"
   },
   {
    "duration": 22,
    "start_time": "2024-03-17T17:01:46.418Z"
   },
   {
    "duration": 22,
    "start_time": "2024-03-17T17:01:56.246Z"
   },
   {
    "duration": 23,
    "start_time": "2024-03-17T17:02:10.509Z"
   },
   {
    "duration": 17,
    "start_time": "2024-03-17T17:02:23.794Z"
   },
   {
    "duration": 17,
    "start_time": "2024-03-17T17:02:55.484Z"
   },
   {
    "duration": 17,
    "start_time": "2024-03-17T17:04:00.216Z"
   },
   {
    "duration": 15,
    "start_time": "2024-03-17T17:04:07.998Z"
   },
   {
    "duration": 16,
    "start_time": "2024-03-17T17:04:56.278Z"
   },
   {
    "duration": 22,
    "start_time": "2024-03-17T17:07:27.953Z"
   },
   {
    "duration": 24,
    "start_time": "2024-03-17T17:07:50.478Z"
   },
   {
    "duration": 21,
    "start_time": "2024-03-17T17:08:38.377Z"
   },
   {
    "duration": 22,
    "start_time": "2024-03-17T17:08:44.870Z"
   },
   {
    "duration": 23,
    "start_time": "2024-03-17T17:09:01.803Z"
   },
   {
    "duration": 22,
    "start_time": "2024-03-17T17:09:14.520Z"
   },
   {
    "duration": 23,
    "start_time": "2024-03-17T17:09:42.817Z"
   },
   {
    "duration": 22,
    "start_time": "2024-03-17T17:09:49.876Z"
   },
   {
    "duration": 22,
    "start_time": "2024-03-17T17:10:09.044Z"
   },
   {
    "duration": 23,
    "start_time": "2024-03-17T17:10:19.612Z"
   },
   {
    "duration": 24,
    "start_time": "2024-03-17T17:10:37.199Z"
   },
   {
    "duration": 22,
    "start_time": "2024-03-17T17:10:42.166Z"
   },
   {
    "duration": 23,
    "start_time": "2024-03-17T17:10:57.202Z"
   },
   {
    "duration": 23,
    "start_time": "2024-03-17T17:11:05.608Z"
   },
   {
    "duration": 24,
    "start_time": "2024-03-17T17:11:31.013Z"
   },
   {
    "duration": 22,
    "start_time": "2024-03-17T17:12:11.670Z"
   },
   {
    "duration": 23,
    "start_time": "2024-03-17T17:12:59.067Z"
   },
   {
    "duration": 23,
    "start_time": "2024-03-17T17:13:07.848Z"
   },
   {
    "duration": 21,
    "start_time": "2024-03-17T17:13:17.441Z"
   },
   {
    "duration": 22,
    "start_time": "2024-03-17T17:13:24.632Z"
   },
   {
    "duration": 21,
    "start_time": "2024-03-17T17:13:38.566Z"
   },
   {
    "duration": 19,
    "start_time": "2024-03-17T17:14:11.669Z"
   },
   {
    "duration": 21,
    "start_time": "2024-03-17T17:16:43.410Z"
   },
   {
    "duration": 23,
    "start_time": "2024-03-17T17:16:54.523Z"
   },
   {
    "duration": 14,
    "start_time": "2024-03-17T17:17:07.039Z"
   },
   {
    "duration": 22,
    "start_time": "2024-03-17T17:18:24.781Z"
   },
   {
    "duration": 15,
    "start_time": "2024-03-17T17:19:10.141Z"
   },
   {
    "duration": 24,
    "start_time": "2024-03-17T17:19:42.340Z"
   },
   {
    "duration": 19,
    "start_time": "2024-03-17T17:20:05.728Z"
   },
   {
    "duration": 76,
    "start_time": "2024-03-17T17:20:43.068Z"
   },
   {
    "duration": 34,
    "start_time": "2024-03-17T17:23:14.071Z"
   },
   {
    "duration": 17,
    "start_time": "2024-03-17T17:25:58.359Z"
   },
   {
    "duration": 17,
    "start_time": "2024-03-17T17:26:24.980Z"
   },
   {
    "duration": 20,
    "start_time": "2024-03-17T17:26:35.158Z"
   },
   {
    "duration": 14,
    "start_time": "2024-03-17T17:29:29.030Z"
   },
   {
    "duration": 19,
    "start_time": "2024-03-17T17:30:20.049Z"
   },
   {
    "duration": 24,
    "start_time": "2024-03-17T17:31:01.736Z"
   },
   {
    "duration": 18,
    "start_time": "2024-03-17T17:31:12.459Z"
   },
   {
    "duration": 21,
    "start_time": "2024-03-17T17:31:39.955Z"
   },
   {
    "duration": 17,
    "start_time": "2024-03-17T17:32:35.408Z"
   },
   {
    "duration": 21,
    "start_time": "2024-03-17T17:34:11.761Z"
   },
   {
    "duration": 19,
    "start_time": "2024-03-17T17:34:21.081Z"
   },
   {
    "duration": 524,
    "start_time": "2024-03-17T17:35:49.319Z"
   },
   {
    "duration": 3,
    "start_time": "2024-03-17T17:35:49.845Z"
   },
   {
    "duration": 4,
    "start_time": "2024-03-17T17:35:49.850Z"
   },
   {
    "duration": 10940,
    "start_time": "2024-03-17T17:35:49.856Z"
   },
   {
    "duration": 3,
    "start_time": "2024-03-17T17:36:00.797Z"
   },
   {
    "duration": 102,
    "start_time": "2024-03-17T17:36:00.801Z"
   },
   {
    "duration": 12,
    "start_time": "2024-03-17T17:36:00.904Z"
   },
   {
    "duration": 50,
    "start_time": "2024-03-17T17:36:00.918Z"
   },
   {
    "duration": 30,
    "start_time": "2024-03-17T17:36:00.969Z"
   },
   {
    "duration": 42,
    "start_time": "2024-03-17T17:36:01.001Z"
   },
   {
    "duration": 30,
    "start_time": "2024-03-17T17:36:01.045Z"
   },
   {
    "duration": 29,
    "start_time": "2024-03-17T17:36:01.077Z"
   },
   {
    "duration": 50,
    "start_time": "2024-03-17T17:36:01.107Z"
   },
   {
    "duration": 17,
    "start_time": "2024-03-17T17:36:01.159Z"
   },
   {
    "duration": 37,
    "start_time": "2024-03-17T17:36:01.177Z"
   },
   {
    "duration": 43,
    "start_time": "2024-03-17T17:36:01.216Z"
   },
   {
    "duration": 61,
    "start_time": "2024-03-17T17:36:01.261Z"
   },
   {
    "duration": 69,
    "start_time": "2024-03-17T17:36:01.324Z"
   },
   {
    "duration": 124,
    "start_time": "2024-03-17T17:36:01.394Z"
   },
   {
    "duration": 43,
    "start_time": "2024-03-17T17:36:01.520Z"
   },
   {
    "duration": 47,
    "start_time": "2024-03-17T17:36:01.565Z"
   },
   {
    "duration": 55,
    "start_time": "2024-03-17T17:36:01.613Z"
   },
   {
    "duration": 50,
    "start_time": "2024-03-17T17:36:01.670Z"
   },
   {
    "duration": 15,
    "start_time": "2024-03-17T17:36:51.280Z"
   },
   {
    "duration": 513,
    "start_time": "2024-03-17T17:36:59.545Z"
   },
   {
    "duration": 4,
    "start_time": "2024-03-17T17:37:00.059Z"
   },
   {
    "duration": 60,
    "start_time": "2024-03-17T17:37:00.064Z"
   },
   {
    "duration": 10618,
    "start_time": "2024-03-17T17:37:00.127Z"
   },
   {
    "duration": 4,
    "start_time": "2024-03-17T17:37:10.747Z"
   },
   {
    "duration": 49,
    "start_time": "2024-03-17T17:37:10.753Z"
   },
   {
    "duration": 10,
    "start_time": "2024-03-17T17:37:10.804Z"
   },
   {
    "duration": 8,
    "start_time": "2024-03-17T17:37:10.816Z"
   },
   {
    "duration": 9,
    "start_time": "2024-03-17T17:37:10.826Z"
   },
   {
    "duration": 12,
    "start_time": "2024-03-17T17:37:10.838Z"
   },
   {
    "duration": 9,
    "start_time": "2024-03-17T17:37:10.851Z"
   },
   {
    "duration": 34,
    "start_time": "2024-03-17T17:37:10.862Z"
   },
   {
    "duration": 12,
    "start_time": "2024-03-17T17:37:10.898Z"
   },
   {
    "duration": 11,
    "start_time": "2024-03-17T17:37:10.911Z"
   },
   {
    "duration": 10,
    "start_time": "2024-03-17T17:37:10.924Z"
   },
   {
    "duration": 8,
    "start_time": "2024-03-17T17:37:10.935Z"
   },
   {
    "duration": 17,
    "start_time": "2024-03-17T17:37:10.945Z"
   },
   {
    "duration": 25,
    "start_time": "2024-03-17T17:37:10.963Z"
   },
   {
    "duration": 12,
    "start_time": "2024-03-17T17:37:10.989Z"
   },
   {
    "duration": 14,
    "start_time": "2024-03-17T17:37:11.002Z"
   },
   {
    "duration": 16,
    "start_time": "2024-03-17T17:37:11.017Z"
   },
   {
    "duration": 13,
    "start_time": "2024-03-17T17:37:11.034Z"
   },
   {
    "duration": 10,
    "start_time": "2024-03-17T17:37:11.049Z"
   },
   {
    "duration": 565,
    "start_time": "2024-03-18T08:11:57.696Z"
   },
   {
    "duration": 3,
    "start_time": "2024-03-18T08:11:58.263Z"
   },
   {
    "duration": 5,
    "start_time": "2024-03-18T08:11:58.268Z"
   },
   {
    "duration": 8055,
    "start_time": "2024-03-18T08:11:58.283Z"
   },
   {
    "duration": 4,
    "start_time": "2024-03-18T08:12:06.339Z"
   },
   {
    "duration": 246,
    "start_time": "2024-03-18T08:12:06.344Z"
   },
   {
    "duration": 52,
    "start_time": "2024-03-18T08:12:06.591Z"
   },
   {
    "duration": 51,
    "start_time": "2024-03-18T08:12:06.645Z"
   },
   {
    "duration": 51,
    "start_time": "2024-03-18T08:12:06.698Z"
   },
   {
    "duration": 52,
    "start_time": "2024-03-18T08:12:06.752Z"
   },
   {
    "duration": 51,
    "start_time": "2024-03-18T08:12:06.805Z"
   },
   {
    "duration": 51,
    "start_time": "2024-03-18T08:12:06.858Z"
   },
   {
    "duration": 55,
    "start_time": "2024-03-18T08:12:06.910Z"
   },
   {
    "duration": 53,
    "start_time": "2024-03-18T08:12:06.966Z"
   },
   {
    "duration": 52,
    "start_time": "2024-03-18T08:12:07.020Z"
   },
   {
    "duration": 51,
    "start_time": "2024-03-18T08:12:07.074Z"
   },
   {
    "duration": 62,
    "start_time": "2024-03-18T08:12:07.126Z"
   },
   {
    "duration": 60,
    "start_time": "2024-03-18T08:12:07.189Z"
   },
   {
    "duration": 53,
    "start_time": "2024-03-18T08:12:07.251Z"
   },
   {
    "duration": 56,
    "start_time": "2024-03-18T08:12:07.306Z"
   },
   {
    "duration": 57,
    "start_time": "2024-03-18T08:12:07.364Z"
   },
   {
    "duration": 53,
    "start_time": "2024-03-18T08:12:07.423Z"
   },
   {
    "duration": 53,
    "start_time": "2024-03-18T08:12:07.478Z"
   },
   {
    "duration": 44,
    "start_time": "2024-03-18T08:21:43.376Z"
   },
   {
    "duration": 526,
    "start_time": "2024-03-18T08:21:50.733Z"
   },
   {
    "duration": 3,
    "start_time": "2024-03-18T08:21:51.260Z"
   },
   {
    "duration": 8,
    "start_time": "2024-03-18T08:21:51.265Z"
   },
   {
    "duration": 7427,
    "start_time": "2024-03-18T08:21:51.275Z"
   },
   {
    "duration": 2,
    "start_time": "2024-03-18T08:21:58.704Z"
   },
   {
    "duration": 259,
    "start_time": "2024-03-18T08:21:58.708Z"
   },
   {
    "duration": 52,
    "start_time": "2024-03-18T08:21:58.969Z"
   },
   {
    "duration": 51,
    "start_time": "2024-03-18T08:21:59.023Z"
   },
   {
    "duration": 51,
    "start_time": "2024-03-18T08:21:59.076Z"
   },
   {
    "duration": 53,
    "start_time": "2024-03-18T08:21:59.130Z"
   },
   {
    "duration": 53,
    "start_time": "2024-03-18T08:21:59.186Z"
   },
   {
    "duration": 54,
    "start_time": "2024-03-18T08:21:59.241Z"
   },
   {
    "duration": 55,
    "start_time": "2024-03-18T08:21:59.296Z"
   },
   {
    "duration": 51,
    "start_time": "2024-03-18T08:21:59.353Z"
   },
   {
    "duration": 51,
    "start_time": "2024-03-18T08:21:59.406Z"
   },
   {
    "duration": 48,
    "start_time": "2024-03-18T08:21:59.459Z"
   },
   {
    "duration": 59,
    "start_time": "2024-03-18T08:21:59.509Z"
   },
   {
    "duration": 58,
    "start_time": "2024-03-18T08:21:59.569Z"
   },
   {
    "duration": 52,
    "start_time": "2024-03-18T08:21:59.629Z"
   },
   {
    "duration": 54,
    "start_time": "2024-03-18T08:21:59.682Z"
   },
   {
    "duration": 57,
    "start_time": "2024-03-18T08:21:59.738Z"
   },
   {
    "duration": 52,
    "start_time": "2024-03-18T08:21:59.797Z"
   },
   {
    "duration": 52,
    "start_time": "2024-03-18T08:21:59.850Z"
   },
   {
    "duration": 56,
    "start_time": "2024-03-18T08:22:31.000Z"
   },
   {
    "duration": 581,
    "start_time": "2024-03-18T12:25:43.652Z"
   },
   {
    "duration": 2,
    "start_time": "2024-03-18T12:25:44.235Z"
   },
   {
    "duration": 15,
    "start_time": "2024-03-18T12:25:44.239Z"
   },
   {
    "duration": 8012,
    "start_time": "2024-03-18T12:25:44.256Z"
   },
   {
    "duration": 4,
    "start_time": "2024-03-18T12:25:52.269Z"
   },
   {
    "duration": 262,
    "start_time": "2024-03-18T12:25:52.274Z"
   },
   {
    "duration": 53,
    "start_time": "2024-03-18T12:25:52.538Z"
   },
   {
    "duration": 52,
    "start_time": "2024-03-18T12:25:52.593Z"
   },
   {
    "duration": 52,
    "start_time": "2024-03-18T12:25:52.647Z"
   },
   {
    "duration": 52,
    "start_time": "2024-03-18T12:25:52.703Z"
   },
   {
    "duration": 53,
    "start_time": "2024-03-18T12:25:52.757Z"
   },
   {
    "duration": 52,
    "start_time": "2024-03-18T12:25:52.812Z"
   },
   {
    "duration": 55,
    "start_time": "2024-03-18T12:25:52.865Z"
   },
   {
    "duration": 53,
    "start_time": "2024-03-18T12:25:52.922Z"
   },
   {
    "duration": 53,
    "start_time": "2024-03-18T12:25:52.977Z"
   },
   {
    "duration": 51,
    "start_time": "2024-03-18T12:25:53.031Z"
   },
   {
    "duration": 65,
    "start_time": "2024-03-18T12:25:53.084Z"
   },
   {
    "duration": 62,
    "start_time": "2024-03-18T12:25:53.150Z"
   },
   {
    "duration": 54,
    "start_time": "2024-03-18T12:25:53.213Z"
   },
   {
    "duration": 56,
    "start_time": "2024-03-18T12:25:53.268Z"
   },
   {
    "duration": 58,
    "start_time": "2024-03-18T12:25:53.325Z"
   },
   {
    "duration": 54,
    "start_time": "2024-03-18T12:25:53.384Z"
   },
   {
    "duration": 53,
    "start_time": "2024-03-18T12:25:53.440Z"
   }
  ],
  "kernelspec": {
   "display_name": "Python 3 (ipykernel)",
   "language": "python",
   "name": "python3"
  },
  "language_info": {
   "codemirror_mode": {
    "name": "ipython",
    "version": 3
   },
   "file_extension": ".py",
   "mimetype": "text/x-python",
   "name": "python",
   "nbconvert_exporter": "python",
   "pygments_lexer": "ipython3",
   "version": "3.11.3"
  },
  "toc": {
   "base_numbering": 1,
   "nav_menu": {
    "height": "301px",
    "width": "278.4px"
   },
   "number_sections": true,
   "sideBar": true,
   "skip_h1_title": true,
   "title_cell": "Table of Contents",
   "title_sidebar": "Contents",
   "toc_cell": false,
   "toc_position": {},
   "toc_section_display": true,
   "toc_window_display": false
  }
 },
 "nbformat": 4,
 "nbformat_minor": 2
}
